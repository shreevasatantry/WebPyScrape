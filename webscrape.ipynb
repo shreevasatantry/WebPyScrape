{
  "nbformat": 4,
  "nbformat_minor": 0,
  "metadata": {
    "colab": {
      "name": "webscrape.ipynb",
      "provenance": [],
      "authorship_tag": "ABX9TyMf2Wh1S4i5ZvEXTAtJmiw8",
      "include_colab_link": true
    },
    "kernelspec": {
      "name": "python3",
      "display_name": "Python 3"
    }
  },
  "cells": [
    {
      "cell_type": "markdown",
      "metadata": {
        "id": "view-in-github",
        "colab_type": "text"
      },
      "source": [
        "<a href=\"https://colab.research.google.com/github/shreevasatantry/WebPyScrape/blob/main/webscrape.ipynb\" target=\"_parent\"><img src=\"https://colab.research.google.com/assets/colab-badge.svg\" alt=\"Open In Colab\"/></a>"
      ]
    },
    {
      "cell_type": "code",
      "metadata": {
        "id": "IL6h3MPhkfa5"
      },
      "source": [
        "import requests\n",
        "import bs4\n",
        "base_url = 'http://books.toscrape.com/catalogue/page-{}.html'\n",
        "two_star_title = []\n",
        "for n in range(1,51):\n",
        "    scrape_url = base_url.format(n)\n",
        "    res = requests.get(scrape_url)\n",
        "    \n",
        "    soup = bs4.BeautifulSoup(res.text,'lxml')\n",
        "    books = soup.select(\".product_pod\")\n",
        "    \n",
        "    for book in books:\n",
        "        if len(book.select('.star-rating.Two'))!=0:\n",
        "            book_title = book.select(\"a\")[1][\"title\"]\n",
        "            two_star_title.append(book_title)\n",
        "two_star_title "
      ],
      "execution_count": null,
      "outputs": []
    }
  ]
}